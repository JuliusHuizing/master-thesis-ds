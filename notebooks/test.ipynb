{
 "cells": [
  {
   "cell_type": "code",
   "execution_count": 59,
   "metadata": {},
   "outputs": [],
   "source": [
    "import torch"
   ]
  },
  {
   "cell_type": "code",
   "execution_count": 71,
   "metadata": {},
   "outputs": [],
   "source": [
    "def reg(x):\n",
    "    l2 =  torch.linalg.vector_norm(x, ord=2, dim=0, keepdim=False)[-1]\n",
    "    l2_normalized = l2 / x.size(0)\n",
    "    return l2_normalized #TODO: we could divide by the squared number of elements to be more invariant to the size of the input..."
   ]
  },
  {
   "cell_type": "code",
   "execution_count": 72,
   "metadata": {},
   "outputs": [
    {
     "ename": "AssertionError",
     "evalue": "tensor(3.1623)",
     "output_type": "error",
     "traceback": [
      "\u001b[0;31m---------------------------------------------------------------------------\u001b[0m",
      "\u001b[0;31mAssertionError\u001b[0m                            Traceback (most recent call last)",
      "Cell \u001b[0;32mIn[72], line 13\u001b[0m\n\u001b[1;32m     10\u001b[0m \u001b[38;5;28;01massert\u001b[39;00m reg(x1) \u001b[38;5;241m<\u001b[39m reg(x2) \n\u001b[1;32m     12\u001b[0m \u001b[38;5;66;03m# assert reg same, otherwise show diff\u001b[39;00m\n\u001b[0;32m---> 13\u001b[0m \u001b[38;5;28;01massert\u001b[39;00m reg(x2) \u001b[38;5;241m==\u001b[39m reg(x3), \u001b[38;5;28mabs\u001b[39m(reg(x2) \u001b[38;5;241m-\u001b[39m reg(x3))\n\u001b[1;32m     16\u001b[0m reg(x1), reg(x2), reg(x3)\n",
      "\u001b[0;31mAssertionError\u001b[0m: tensor(3.1623)"
     ]
    }
   ],
   "source": [
    "x1 = torch.ones(10, 3)\n",
    "\n",
    "x2 = torch.ones(10, 3)\n",
    "x2[:, 2] = x1[:, 2] * 50\n",
    "\n",
    "x3 = torch.ones(10, 3)\n",
    "x3[:, 2] = x3[:, 2] * 60\n",
    "\n",
    "\n",
    "assert reg(x1) < reg(x2) \n",
    "\n",
    "# assert reg same, otherwise show diff\n",
    "assert reg(x2) == reg(x3), abs(reg(x2) - reg(x3))\n",
    "\n",
    "\n",
    "reg(x1), reg(x2), reg(x3)\n"
   ]
  },
  {
   "cell_type": "code",
   "execution_count": null,
   "metadata": {},
   "outputs": [],
   "source": []
  },
  {
   "cell_type": "code",
   "execution_count": null,
   "metadata": {},
   "outputs": [],
   "source": []
  }
 ],
 "metadata": {
  "kernelspec": {
   "display_name": "sisa3d",
   "language": "python",
   "name": "python3"
  },
  "language_info": {
   "codemirror_mode": {
    "name": "ipython",
    "version": 3
   },
   "file_extension": ".py",
   "mimetype": "text/x-python",
   "name": "python",
   "nbconvert_exporter": "python",
   "pygments_lexer": "ipython3",
   "version": "3.9.19"
  }
 },
 "nbformat": 4,
 "nbformat_minor": 2
}
