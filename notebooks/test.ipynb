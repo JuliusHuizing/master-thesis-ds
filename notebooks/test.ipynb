{
 "cells": [
  {
   "cell_type": "code",
   "execution_count": 59,
   "metadata": {},
   "outputs": [],
   "source": [
    "import torch"
   ]
  },
  {
   "cell_type": "code",
   "execution_count": 76,
   "metadata": {},
   "outputs": [],
   "source": [
    "def reg(x):\n",
    "    # l2 = torch.linalg.vector_norm(x[:, -1], ord=2, dim=0)\n",
    "    # l2 =  torch.linalg.vector_norm(x, ord=2, dim=0, keepdim=False)[-1]\n",
    "    # l2_normalized = l2 / x.size(0)\n",
    "    l2 = torch.mean(x[:, -1] ** 2)\n",
    "    return l2 #TODO: we could divide by the squared number of elements to be more invariant to the number of Gaussians.."
   ]
  },
  {
   "cell_type": "code",
   "execution_count": 79,
   "metadata": {},
   "outputs": [
    {
     "data": {
      "text/plain": [
       "(tensor(1.), tensor(2500.), tensor(2500.))"
      ]
     },
     "execution_count": 79,
     "metadata": {},
     "output_type": "execute_result"
    }
   ],
   "source": [
    "x1 = torch.ones(10, 3)\n",
    "\n",
    "x2 = torch.ones(10, 3)\n",
    "x2[:, 2] = x1[:, 2] * 50\n",
    "\n",
    "x3 = torch.ones(20, 3)\n",
    "x3[:, 2] = x3[:, 2] * 50\n",
    "\n",
    "\n",
    "assert reg(x1) < reg(x2) \n",
    "\n",
    "# assert reg same, otherwise show diff\n",
    "assert reg(x2) == reg(x3), abs(reg(x2) - reg(x3))\n",
    "\n",
    "\n",
    "reg(x1), reg(x2), reg(x3)\n"
   ]
  },
  {
   "cell_type": "code",
   "execution_count": null,
   "metadata": {},
   "outputs": [],
   "source": []
  },
  {
   "cell_type": "code",
   "execution_count": 2,
   "metadata": {},
   "outputs": [],
   "source": [
    "from sisa3d.camera import convert_png_to_jpeg"
   ]
  },
  {
   "cell_type": "code",
   "execution_count": 4,
   "metadata": {},
   "outputs": [
    {
     "name": "stdout",
     "output_type": "stream",
     "text": [
      "Failed to write the JPEG image.\n"
     ]
    },
    {
     "data": {
      "text/plain": [
       "False"
      ]
     },
     "execution_count": 4,
     "metadata": {},
     "output_type": "execute_result"
    }
   ],
   "source": [
    "input_path = \"/Users/julius/repos/master-thesis-ds/results/preprocessing/blueberry_rgba.png\"\n",
    "convert_png_to_jpeg(input_path, \"results/preprocessing/blueberry_rgba.jpg\")"
   ]
  },
  {
   "cell_type": "code",
   "execution_count": 6,
   "metadata": {},
   "outputs": [],
   "source": [
    "from PIL import Image\n",
    "\n",
    "im = Image.open(input_path)\n",
    "rgb_im = im.convert('RGB')\n",
    "rgb_im.save('tmpt.jpg')"
   ]
  },
  {
   "cell_type": "code",
   "execution_count": null,
   "metadata": {},
   "outputs": [],
   "source": [
    "from sisa3d"
   ]
  }
 ],
 "metadata": {
  "kernelspec": {
   "display_name": "sisa3d",
   "language": "python",
   "name": "python3"
  },
  "language_info": {
   "codemirror_mode": {
    "name": "ipython",
    "version": 3
   },
   "file_extension": ".py",
   "mimetype": "text/x-python",
   "name": "python",
   "nbconvert_exporter": "python",
   "pygments_lexer": "ipython3",
   "version": "3.9.19"
  }
 },
 "nbformat": 4,
 "nbformat_minor": 2
}
