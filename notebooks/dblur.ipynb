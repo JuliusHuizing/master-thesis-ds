{
 "cells": [
  {
   "cell_type": "code",
   "execution_count": 2,
   "metadata": {},
   "outputs": [
    {
     "ename": "Exception",
     "evalue": "img_dir specified as the argument must contain a subdirectory 'sharp'",
     "output_type": "error",
     "traceback": [
      "\u001b[0;31m---------------------------------------------------------------------------\u001b[0m",
      "\u001b[0;31mException\u001b[0m                                 Traceback (most recent call last)",
      "Cell \u001b[0;32mIn[2], line 4\u001b[0m\n\u001b[1;32m      1\u001b[0m \u001b[38;5;28;01mfrom\u001b[39;00m \u001b[38;5;21;01mdblur\u001b[39;00m\u001b[38;5;21;01m.\u001b[39;00m\u001b[38;5;21;01mtesters\u001b[39;00m\u001b[38;5;21;01m.\u001b[39;00m\u001b[38;5;21;01mrestormer\u001b[39;00m \u001b[38;5;28;01mimport\u001b[39;00m RestormerTester\n\u001b[1;32m      3\u001b[0m restormer_tester \u001b[38;5;241m=\u001b[39m RestormerTester()\n\u001b[0;32m----> 4\u001b[0m test_dataloader \u001b[38;5;241m=\u001b[39m \u001b[43mrestormer_tester\u001b[49m\u001b[38;5;241;43m.\u001b[39;49m\u001b[43mget_test_dataloader\u001b[49m\u001b[43m(\u001b[49m\u001b[38;5;124;43m\"\u001b[39;49m\u001b[38;5;124;43m../colmap6/input\u001b[39;49m\u001b[38;5;124;43m\"\u001b[39;49m\u001b[43m,\u001b[49m\u001b[43m \u001b[49m\u001b[43mbatch_size\u001b[49m\u001b[38;5;241;43m=\u001b[39;49m\u001b[38;5;241;43m8\u001b[39;49m\u001b[43m)\u001b[49m\n\u001b[1;32m      5\u001b[0m model \u001b[38;5;241m=\u001b[39m restormer_tester\u001b[38;5;241m.\u001b[39mget_model(num_layers \u001b[38;5;241m=\u001b[39m \u001b[38;5;241m4\u001b[39m, num_refinement_blocks \u001b[38;5;241m=\u001b[39m \u001b[38;5;241m2\u001b[39m)\n\u001b[1;32m      6\u001b[0m loss_func \u001b[38;5;241m=\u001b[39m restormer_tester\u001b[38;5;241m.\u001b[39mget_loss()\n",
      "File \u001b[0;32m~/.local/lib/python3.9/site-packages/dblur/testers/base_tester.py:36\u001b[0m, in \u001b[0;36mBaseTester.get_test_dataloader\u001b[0;34m(self, dataset_path, transform, batch_size)\u001b[0m\n\u001b[1;32m     26\u001b[0m \u001b[38;5;28;01mdef\u001b[39;00m \u001b[38;5;21mget_test_dataloader\u001b[39m(\u001b[38;5;28mself\u001b[39m, dataset_path, transform\u001b[38;5;241m=\u001b[39m\u001b[38;5;28;01mNone\u001b[39;00m, batch_size\u001b[38;5;241m=\u001b[39m\u001b[38;5;241m8\u001b[39m):\n\u001b[1;32m     27\u001b[0m \u001b[38;5;250m    \u001b[39m\u001b[38;5;124;03m\"\"\"Returns an instance of torch.utils.data.DataLoader used for testing given the arguments below.\u001b[39;00m\n\u001b[1;32m     28\u001b[0m \n\u001b[1;32m     29\u001b[0m \u001b[38;5;124;03m    Args:\u001b[39;00m\n\u001b[0;32m   (...)\u001b[0m\n\u001b[1;32m     33\u001b[0m \u001b[38;5;124;03m        batch_size: Testing batch size. \u001b[39;00m\n\u001b[1;32m     34\u001b[0m \u001b[38;5;124;03m    \"\"\"\u001b[39;00m\n\u001b[0;32m---> 36\u001b[0m     test_dataset \u001b[38;5;241m=\u001b[39m \u001b[43mImageDataset\u001b[49m\u001b[43m(\u001b[49m\u001b[43mdataset_path\u001b[49m\u001b[43m,\u001b[49m\u001b[43m \u001b[49m\u001b[43mtransform\u001b[49m\u001b[43m)\u001b[49m\n\u001b[1;32m     37\u001b[0m     test_dataloader \u001b[38;5;241m=\u001b[39m DataLoader(test_dataset, batch_size\u001b[38;5;241m=\u001b[39mbatch_size, shuffle\u001b[38;5;241m=\u001b[39m\u001b[38;5;28;01mTrue\u001b[39;00m)\n\u001b[1;32m     39\u001b[0m     \u001b[38;5;28;01mreturn\u001b[39;00m test_dataloader\n",
      "File \u001b[0;32m~/.local/lib/python3.9/site-packages/dblur/data/dataset.py:40\u001b[0m, in \u001b[0;36mImageDataset.__init__\u001b[0;34m(self, img_dir, transform)\u001b[0m\n\u001b[1;32m     38\u001b[0m \u001b[38;5;28mself\u001b[39m\u001b[38;5;241m.\u001b[39mimg_dir \u001b[38;5;241m=\u001b[39m img_dir\n\u001b[1;32m     39\u001b[0m \u001b[38;5;28mself\u001b[39m\u001b[38;5;241m.\u001b[39mtransform \u001b[38;5;241m=\u001b[39m transform\n\u001b[0;32m---> 40\u001b[0m \u001b[38;5;28mself\u001b[39m\u001b[38;5;241m.\u001b[39msharp_img_paths, \u001b[38;5;28mself\u001b[39m\u001b[38;5;241m.\u001b[39mblur_img_paths \u001b[38;5;241m=\u001b[39m \u001b[43mget_img_paths\u001b[49m\u001b[43m(\u001b[49m\u001b[38;5;28;43mself\u001b[39;49m\u001b[38;5;241;43m.\u001b[39;49m\u001b[43mimg_dir\u001b[49m\u001b[43m)\u001b[49m\n",
      "File \u001b[0;32m~/.local/lib/python3.9/site-packages/dblur/utils/dataset_utils.py:25\u001b[0m, in \u001b[0;36mget_img_paths\u001b[0;34m(img_dir)\u001b[0m\n\u001b[1;32m     22\u001b[0m blur_img_dir \u001b[38;5;241m=\u001b[39m os\u001b[38;5;241m.\u001b[39mpath\u001b[38;5;241m.\u001b[39mjoin(img_dir, \u001b[38;5;124m\"\u001b[39m\u001b[38;5;124mblur\u001b[39m\u001b[38;5;124m\"\u001b[39m)\n\u001b[1;32m     24\u001b[0m \u001b[38;5;28;01mif\u001b[39;00m \u001b[38;5;129;01mnot\u001b[39;00m os\u001b[38;5;241m.\u001b[39mpath\u001b[38;5;241m.\u001b[39mexists(sharp_img_dir):\n\u001b[0;32m---> 25\u001b[0m     \u001b[38;5;28;01mraise\u001b[39;00m \u001b[38;5;167;01mException\u001b[39;00m(\u001b[38;5;124m\"\u001b[39m\u001b[38;5;124mimg_dir specified as the argument must contain a subdirectory \u001b[39m\u001b[38;5;124m'\u001b[39m\u001b[38;5;124msharp\u001b[39m\u001b[38;5;124m'\u001b[39m\u001b[38;5;124m\"\u001b[39m)\n\u001b[1;32m     26\u001b[0m \u001b[38;5;28;01mif\u001b[39;00m \u001b[38;5;129;01mnot\u001b[39;00m os\u001b[38;5;241m.\u001b[39mpath\u001b[38;5;241m.\u001b[39mexists(blur_img_dir):\n\u001b[1;32m     27\u001b[0m     \u001b[38;5;28;01mraise\u001b[39;00m \u001b[38;5;167;01mException\u001b[39;00m(\u001b[38;5;124m\"\u001b[39m\u001b[38;5;124mimg_dir specified as the argument must contain a subdirectory \u001b[39m\u001b[38;5;124m'\u001b[39m\u001b[38;5;124mblur\u001b[39m\u001b[38;5;124m'\u001b[39m\u001b[38;5;124m\"\u001b[39m)\n",
      "\u001b[0;31mException\u001b[0m: img_dir specified as the argument must contain a subdirectory 'sharp'"
     ]
    }
   ],
   "source": [
    "from dblur.testers.restormer import RestormerTester\n",
    "\n",
    "restormer_tester = RestormerTester()\n",
    "test_dataloader = restormer_tester.get_test_dataloader(\"../colmap6/input\", batch_size=8)\n",
    "model = restormer_tester.get_model(num_layers = 4, num_refinement_blocks = 2)\n",
    "\n",
    "\n",
    "blur_img_path = '../colmap6/input/rendered_image_500_0.jpg'\n",
    "sharp_img_path = '../dblur/dblurred_image_500_0.jpg'\n",
    "#deblur single image using pretrained model\n",
    "restormer_tester.deblur_single_img(model,\n",
    "                                   \"test\",\n",
    "                                   blur_img_path,\n",
    "                                   sharp_img_path,\n",
    "                                   is_checkpoint=True,\n",
    "                                   window_slicing=False)"
   ]
  },
  {
   "cell_type": "code",
   "execution_count": null,
   "metadata": {},
   "outputs": [],
   "source": []
  }
 ],
 "metadata": {
  "kernelspec": {
   "display_name": "sisa3d",
   "language": "python",
   "name": "python3"
  },
  "language_info": {
   "codemirror_mode": {
    "name": "ipython",
    "version": 3
   },
   "file_extension": ".py",
   "mimetype": "text/x-python",
   "name": "python",
   "nbconvert_exporter": "python",
   "pygments_lexer": "ipython3",
   "version": "3.9.19"
  }
 },
 "nbformat": 4,
 "nbformat_minor": 2
}
