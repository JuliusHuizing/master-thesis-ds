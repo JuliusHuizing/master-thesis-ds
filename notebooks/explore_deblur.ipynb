{
 "cells": [
  {
   "cell_type": "code",
   "execution_count": null,
   "metadata": {},
   "outputs": [],
   "source": [
    "from huggingface_hub import from_pretrained_keras\n",
    "from PIL import Image\n",
    "\n",
    "import tensorflow as tf\n",
    "import numpy as np\n",
    "import requests\n",
    "\n",
    "url = \"https://github.com/sayakpaul/maxim-tf/raw/main/images/Deblurring/input/1fromGOPR0950.png\"\n",
    "image = Image.open(requests.get(url, stream=True).raw)\n",
    "image = np.array(image)\n",
    "image = tf.convert_to_tensor(image)\n",
    "image = tf.image.resize(image, (256, 256))\n",
    "\n",
    "model = from_pretrained_keras(\"google/maxim-s3-deblurring-gopro\")\n",
    "predictions = model.predict(tf.expand_dims(image, 0))"
   ]
  },
  {
   "cell_type": "code",
   "execution_count": null,
   "metadata": {},
   "outputs": [],
   "source": []
  }
 ],
 "metadata": {
  "kernelspec": {
   "display_name": "sisa3d",
   "language": "python",
   "name": "python3"
  },
  "language_info": {
   "name": "python",
   "version": "3.9.19"
  }
 },
 "nbformat": 4,
 "nbformat_minor": 2
}
