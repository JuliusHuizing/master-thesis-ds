{
 "cells": [
  {
   "cell_type": "code",
   "execution_count": 1,
   "metadata": {},
   "outputs": [],
   "source": [
    "import pandas as pd"
   ]
  },
  {
   "cell_type": "code",
   "execution_count": 2,
   "metadata": {},
   "outputs": [],
   "source": [
    "path = \"/Users/julius/repos/sisa3d/master-thesis-ds/results/stage_2/grid_search_clip_scores_v2.csv\""
   ]
  },
  {
   "cell_type": "code",
   "execution_count": 3,
   "metadata": {},
   "outputs": [],
   "source": [
    "df = pd.read_csv(path)"
   ]
  },
  {
   "cell_type": "code",
   "execution_count": 4,
   "metadata": {},
   "outputs": [
    {
     "data": {
      "text/html": [
       "<div>\n",
       "<style scoped>\n",
       "    .dataframe tbody tr th:only-of-type {\n",
       "        vertical-align: middle;\n",
       "    }\n",
       "\n",
       "    .dataframe tbody tr th {\n",
       "        vertical-align: top;\n",
       "    }\n",
       "\n",
       "    .dataframe thead th {\n",
       "        text-align: right;\n",
       "    }\n",
       "</style>\n",
       "<table border=\"1\" class=\"dataframe\">\n",
       "  <thead>\n",
       "    <tr style=\"text-align: right;\">\n",
       "      <th></th>\n",
       "      <th>clip_score</th>\n",
       "      <th>elongation</th>\n",
       "      <th>compactness</th>\n",
       "      <th>opacity</th>\n",
       "      <th>duration</th>\n",
       "      <th>input_image_path</th>\n",
       "      <th>hyperparameters</th>\n",
       "      <th>full_config</th>\n",
       "    </tr>\n",
       "  </thead>\n",
       "  <tbody>\n",
       "    <tr>\n",
       "      <th>0</th>\n",
       "      <td>0.759902</td>\n",
       "      <td>0.0001</td>\n",
       "      <td>0.0001</td>\n",
       "      <td>0</td>\n",
       "      <td>178.807944</td>\n",
       "      <td>images/grid_search/image-13.png</td>\n",
       "      <td>dreamgaussian:\\n  H: 800\\n  W: 800\\n  anneal_t...</td>\n",
       "      <td>dreamgaussian:\\n  H: 800\\n  W: 800\\n  anneal_t...</td>\n",
       "    </tr>\n",
       "    <tr>\n",
       "      <th>1</th>\n",
       "      <td>0.740882</td>\n",
       "      <td>0.0001</td>\n",
       "      <td>0.0010</td>\n",
       "      <td>0</td>\n",
       "      <td>165.216428</td>\n",
       "      <td>images/grid_search/image-13.png</td>\n",
       "      <td>dreamgaussian:\\n  H: 800\\n  W: 800\\n  anneal_t...</td>\n",
       "      <td>dreamgaussian:\\n  H: 800\\n  W: 800\\n  anneal_t...</td>\n",
       "    </tr>\n",
       "    <tr>\n",
       "      <th>2</th>\n",
       "      <td>0.661712</td>\n",
       "      <td>0.0001</td>\n",
       "      <td>0.0010</td>\n",
       "      <td>0</td>\n",
       "      <td>156.270095</td>\n",
       "      <td>images/grid_search/image-7.png</td>\n",
       "      <td>dreamgaussian:\\n  H: 800\\n  W: 800\\n  anneal_t...</td>\n",
       "      <td>dreamgaussian:\\n  H: 800\\n  W: 800\\n  anneal_t...</td>\n",
       "    </tr>\n",
       "    <tr>\n",
       "      <th>3</th>\n",
       "      <td>0.721051</td>\n",
       "      <td>0.0010</td>\n",
       "      <td>0.0010</td>\n",
       "      <td>0</td>\n",
       "      <td>174.108992</td>\n",
       "      <td>images/grid_search/image-13.png</td>\n",
       "      <td>dreamgaussian:\\n  H: 800\\n  W: 800\\n  anneal_t...</td>\n",
       "      <td>dreamgaussian:\\n  H: 800\\n  W: 800\\n  anneal_t...</td>\n",
       "    </tr>\n",
       "    <tr>\n",
       "      <th>4</th>\n",
       "      <td>0.804103</td>\n",
       "      <td>0.0010</td>\n",
       "      <td>0.0010</td>\n",
       "      <td>0</td>\n",
       "      <td>161.215458</td>\n",
       "      <td>images/grid_search/image-2.png</td>\n",
       "      <td>dreamgaussian:\\n  H: 800\\n  W: 800\\n  anneal_t...</td>\n",
       "      <td>dreamgaussian:\\n  H: 800\\n  W: 800\\n  anneal_t...</td>\n",
       "    </tr>\n",
       "  </tbody>\n",
       "</table>\n",
       "</div>"
      ],
      "text/plain": [
       "   clip_score  elongation  compactness  opacity    duration  \\\n",
       "0    0.759902      0.0001       0.0001        0  178.807944   \n",
       "1    0.740882      0.0001       0.0010        0  165.216428   \n",
       "2    0.661712      0.0001       0.0010        0  156.270095   \n",
       "3    0.721051      0.0010       0.0010        0  174.108992   \n",
       "4    0.804103      0.0010       0.0010        0  161.215458   \n",
       "\n",
       "                  input_image_path  \\\n",
       "0  images/grid_search/image-13.png   \n",
       "1  images/grid_search/image-13.png   \n",
       "2   images/grid_search/image-7.png   \n",
       "3  images/grid_search/image-13.png   \n",
       "4   images/grid_search/image-2.png   \n",
       "\n",
       "                                     hyperparameters  \\\n",
       "0  dreamgaussian:\\n  H: 800\\n  W: 800\\n  anneal_t...   \n",
       "1  dreamgaussian:\\n  H: 800\\n  W: 800\\n  anneal_t...   \n",
       "2  dreamgaussian:\\n  H: 800\\n  W: 800\\n  anneal_t...   \n",
       "3  dreamgaussian:\\n  H: 800\\n  W: 800\\n  anneal_t...   \n",
       "4  dreamgaussian:\\n  H: 800\\n  W: 800\\n  anneal_t...   \n",
       "\n",
       "                                         full_config  \n",
       "0  dreamgaussian:\\n  H: 800\\n  W: 800\\n  anneal_t...  \n",
       "1  dreamgaussian:\\n  H: 800\\n  W: 800\\n  anneal_t...  \n",
       "2  dreamgaussian:\\n  H: 800\\n  W: 800\\n  anneal_t...  \n",
       "3  dreamgaussian:\\n  H: 800\\n  W: 800\\n  anneal_t...  \n",
       "4  dreamgaussian:\\n  H: 800\\n  W: 800\\n  anneal_t...  "
      ]
     },
     "execution_count": 4,
     "metadata": {},
     "output_type": "execute_result"
    }
   ],
   "source": [
    "df.head()"
   ]
  },
  {
   "cell_type": "code",
   "execution_count": null,
   "metadata": {},
   "outputs": [],
   "source": []
  },
  {
   "cell_type": "code",
   "execution_count": 5,
   "metadata": {},
   "outputs": [],
   "source": [
    "df[\"hyperparameter_config_id\"] = \"e\" + df['elongation'].astype(str) + \"c\" + df['compactness'].astype(str) + \"o\" + df['opacity'].astype(str)"
   ]
  },
  {
   "cell_type": "code",
   "execution_count": 6,
   "metadata": {},
   "outputs": [],
   "source": [
    "df = df.filter(items=['clip_score', 'hyperparameter_config_id'])"
   ]
  },
  {
   "cell_type": "code",
   "execution_count": 7,
   "metadata": {},
   "outputs": [
    {
     "data": {
      "text/html": [
       "<div>\n",
       "<style scoped>\n",
       "    .dataframe tbody tr th:only-of-type {\n",
       "        vertical-align: middle;\n",
       "    }\n",
       "\n",
       "    .dataframe tbody tr th {\n",
       "        vertical-align: top;\n",
       "    }\n",
       "\n",
       "    .dataframe thead th {\n",
       "        text-align: right;\n",
       "    }\n",
       "</style>\n",
       "<table border=\"1\" class=\"dataframe\">\n",
       "  <thead>\n",
       "    <tr style=\"text-align: right;\">\n",
       "      <th></th>\n",
       "      <th>clip_score</th>\n",
       "      <th>hyperparameter_config_id</th>\n",
       "    </tr>\n",
       "  </thead>\n",
       "  <tbody>\n",
       "    <tr>\n",
       "      <th>0</th>\n",
       "      <td>0.759902</td>\n",
       "      <td>e0.0001c0.0001o0</td>\n",
       "    </tr>\n",
       "    <tr>\n",
       "      <th>1</th>\n",
       "      <td>0.740882</td>\n",
       "      <td>e0.0001c0.001o0</td>\n",
       "    </tr>\n",
       "    <tr>\n",
       "      <th>2</th>\n",
       "      <td>0.661712</td>\n",
       "      <td>e0.0001c0.001o0</td>\n",
       "    </tr>\n",
       "    <tr>\n",
       "      <th>3</th>\n",
       "      <td>0.721051</td>\n",
       "      <td>e0.001c0.001o0</td>\n",
       "    </tr>\n",
       "    <tr>\n",
       "      <th>4</th>\n",
       "      <td>0.804103</td>\n",
       "      <td>e0.001c0.001o0</td>\n",
       "    </tr>\n",
       "  </tbody>\n",
       "</table>\n",
       "</div>"
      ],
      "text/plain": [
       "   clip_score hyperparameter_config_id\n",
       "0    0.759902         e0.0001c0.0001o0\n",
       "1    0.740882          e0.0001c0.001o0\n",
       "2    0.661712          e0.0001c0.001o0\n",
       "3    0.721051           e0.001c0.001o0\n",
       "4    0.804103           e0.001c0.001o0"
      ]
     },
     "execution_count": 7,
     "metadata": {},
     "output_type": "execute_result"
    }
   ],
   "source": [
    "df.head()"
   ]
  },
  {
   "cell_type": "code",
   "execution_count": 8,
   "metadata": {},
   "outputs": [
    {
     "data": {
      "text/plain": [
       "<pandas.core.groupby.generic.DataFrameGroupBy object at 0x1460b7940>"
      ]
     },
     "execution_count": 8,
     "metadata": {},
     "output_type": "execute_result"
    }
   ],
   "source": [
    "df.groupby([\"hyperparameter_config_id\"])\n",
    "\n"
   ]
  },
  {
   "cell_type": "code",
   "execution_count": 9,
   "metadata": {},
   "outputs": [
    {
     "data": {
      "text/html": [
       "<div>\n",
       "<style scoped>\n",
       "    .dataframe tbody tr th:only-of-type {\n",
       "        vertical-align: middle;\n",
       "    }\n",
       "\n",
       "    .dataframe tbody tr th {\n",
       "        vertical-align: top;\n",
       "    }\n",
       "\n",
       "    .dataframe thead th {\n",
       "        text-align: right;\n",
       "    }\n",
       "</style>\n",
       "<table border=\"1\" class=\"dataframe\">\n",
       "  <thead>\n",
       "    <tr style=\"text-align: right;\">\n",
       "      <th></th>\n",
       "      <th>clip_score</th>\n",
       "      <th>hyperparameter_config_id</th>\n",
       "    </tr>\n",
       "  </thead>\n",
       "  <tbody>\n",
       "    <tr>\n",
       "      <th>0</th>\n",
       "      <td>0.759902</td>\n",
       "      <td>e0.0001c0.0001o0</td>\n",
       "    </tr>\n",
       "    <tr>\n",
       "      <th>1</th>\n",
       "      <td>0.740882</td>\n",
       "      <td>e0.0001c0.001o0</td>\n",
       "    </tr>\n",
       "    <tr>\n",
       "      <th>2</th>\n",
       "      <td>0.661712</td>\n",
       "      <td>e0.0001c0.001o0</td>\n",
       "    </tr>\n",
       "    <tr>\n",
       "      <th>3</th>\n",
       "      <td>0.721051</td>\n",
       "      <td>e0.001c0.001o0</td>\n",
       "    </tr>\n",
       "    <tr>\n",
       "      <th>4</th>\n",
       "      <td>0.804103</td>\n",
       "      <td>e0.001c0.001o0</td>\n",
       "    </tr>\n",
       "    <tr>\n",
       "      <th>5</th>\n",
       "      <td>0.750108</td>\n",
       "      <td>e0.001c0.0001o0</td>\n",
       "    </tr>\n",
       "    <tr>\n",
       "      <th>6</th>\n",
       "      <td>0.840033</td>\n",
       "      <td>e0.001c0.0001o0</td>\n",
       "    </tr>\n",
       "    <tr>\n",
       "      <th>7</th>\n",
       "      <td>0.645529</td>\n",
       "      <td>e0.0001c0.0001o0</td>\n",
       "    </tr>\n",
       "    <tr>\n",
       "      <th>8</th>\n",
       "      <td>0.609871</td>\n",
       "      <td>e0.001c0.001o0</td>\n",
       "    </tr>\n",
       "    <tr>\n",
       "      <th>9</th>\n",
       "      <td>0.815609</td>\n",
       "      <td>e0.0001c0.0001o0</td>\n",
       "    </tr>\n",
       "    <tr>\n",
       "      <th>10</th>\n",
       "      <td>0.836744</td>\n",
       "      <td>e0.0001c0.001o0</td>\n",
       "    </tr>\n",
       "    <tr>\n",
       "      <th>11</th>\n",
       "      <td>0.618715</td>\n",
       "      <td>e0.001c0.0001o0</td>\n",
       "    </tr>\n",
       "  </tbody>\n",
       "</table>\n",
       "</div>"
      ],
      "text/plain": [
       "    clip_score hyperparameter_config_id\n",
       "0     0.759902         e0.0001c0.0001o0\n",
       "1     0.740882          e0.0001c0.001o0\n",
       "2     0.661712          e0.0001c0.001o0\n",
       "3     0.721051           e0.001c0.001o0\n",
       "4     0.804103           e0.001c0.001o0\n",
       "5     0.750108          e0.001c0.0001o0\n",
       "6     0.840033          e0.001c0.0001o0\n",
       "7     0.645529         e0.0001c0.0001o0\n",
       "8     0.609871           e0.001c0.001o0\n",
       "9     0.815609         e0.0001c0.0001o0\n",
       "10    0.836744          e0.0001c0.001o0\n",
       "11    0.618715          e0.001c0.0001o0"
      ]
     },
     "execution_count": 9,
     "metadata": {},
     "output_type": "execute_result"
    }
   ],
   "source": [
    "df"
   ]
  },
  {
   "cell_type": "code",
   "execution_count": 10,
   "metadata": {},
   "outputs": [
    {
     "data": {
      "text/html": [
       "<div>\n",
       "<style scoped>\n",
       "    .dataframe tbody tr th:only-of-type {\n",
       "        vertical-align: middle;\n",
       "    }\n",
       "\n",
       "    .dataframe tbody tr th {\n",
       "        vertical-align: top;\n",
       "    }\n",
       "\n",
       "    .dataframe thead th {\n",
       "        text-align: right;\n",
       "    }\n",
       "</style>\n",
       "<table border=\"1\" class=\"dataframe\">\n",
       "  <thead>\n",
       "    <tr style=\"text-align: right;\">\n",
       "      <th></th>\n",
       "      <th>clip_score</th>\n",
       "      <th>hyperparameter_config_id</th>\n",
       "    </tr>\n",
       "  </thead>\n",
       "  <tbody>\n",
       "    <tr>\n",
       "      <th>6</th>\n",
       "      <td>0.840033</td>\n",
       "      <td>e0.001c0.0001o0</td>\n",
       "    </tr>\n",
       "  </tbody>\n",
       "</table>\n",
       "</div>"
      ],
      "text/plain": [
       "   clip_score hyperparameter_config_id\n",
       "6    0.840033          e0.001c0.0001o0"
      ]
     },
     "execution_count": 10,
     "metadata": {},
     "output_type": "execute_result"
    }
   ],
   "source": [
    "# max clip score\n",
    "df[df['clip_score'] == df['clip_score'].max()]"
   ]
  },
  {
   "cell_type": "code",
   "execution_count": 11,
   "metadata": {},
   "outputs": [],
   "source": [
    "import uuid\n"
   ]
  },
  {
   "cell_type": "code",
   "execution_count": 12,
   "metadata": {},
   "outputs": [],
   "source": [
    "unique_id = uuid.uuid4().hex\n",
    "tmp_configs_dir = f\"tmp_configs_{unique_id}\""
   ]
  },
  {
   "cell_type": "code",
   "execution_count": 13,
   "metadata": {},
   "outputs": [
    {
     "data": {
      "text/plain": [
       "'tmp_configs_8201ee90893b46c3a93955f162eb8df3'"
      ]
     },
     "execution_count": 13,
     "metadata": {},
     "output_type": "execute_result"
    }
   ],
   "source": [
    "tmp_configs_dir"
   ]
  },
  {
   "cell_type": "code",
   "execution_count": null,
   "metadata": {},
   "outputs": [],
   "source": []
  }
 ],
 "metadata": {
  "kernelspec": {
   "display_name": "sisa3d",
   "language": "python",
   "name": "python3"
  },
  "language_info": {
   "codemirror_mode": {
    "name": "ipython",
    "version": 3
   },
   "file_extension": ".py",
   "mimetype": "text/x-python",
   "name": "python",
   "nbconvert_exporter": "python",
   "pygments_lexer": "ipython3",
   "version": "3.9.19"
  }
 },
 "nbformat": 4,
 "nbformat_minor": 2
}
