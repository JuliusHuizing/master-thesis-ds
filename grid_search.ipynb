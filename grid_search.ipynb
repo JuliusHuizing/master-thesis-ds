{
 "cells": [
  {
   "cell_type": "code",
   "execution_count": 4,
   "metadata": {},
   "outputs": [],
   "source": [
    "import pandas as pd"
   ]
  },
  {
   "cell_type": "code",
   "execution_count": 7,
   "metadata": {},
   "outputs": [],
   "source": [
    "path = \"/Users/julius/repos/sisa3d/master-thesis-ds/results/dream_gaussian/stage_1/grid_search_clip_scores_v2.csv\""
   ]
  },
  {
   "cell_type": "code",
   "execution_count": 8,
   "metadata": {},
   "outputs": [],
   "source": [
    "df = pd.read_csv(path)"
   ]
  },
  {
   "cell_type": "code",
   "execution_count": 9,
   "metadata": {},
   "outputs": [
    {
     "data": {
      "text/html": [
       "<div>\n",
       "<style scoped>\n",
       "    .dataframe tbody tr th:only-of-type {\n",
       "        vertical-align: middle;\n",
       "    }\n",
       "\n",
       "    .dataframe tbody tr th {\n",
       "        vertical-align: top;\n",
       "    }\n",
       "\n",
       "    .dataframe thead th {\n",
       "        text-align: right;\n",
       "    }\n",
       "</style>\n",
       "<table border=\"1\" class=\"dataframe\">\n",
       "  <thead>\n",
       "    <tr style=\"text-align: right;\">\n",
       "      <th></th>\n",
       "      <th>clip_score</th>\n",
       "      <th>elongation</th>\n",
       "      <th>compactness</th>\n",
       "      <th>opacity</th>\n",
       "      <th>clip_scores</th>\n",
       "      <th>duration</th>\n",
       "      <th>input_image_path</th>\n",
       "      <th>hyperparameters</th>\n",
       "      <th>full_config</th>\n",
       "    </tr>\n",
       "  </thead>\n",
       "  <tbody>\n",
       "    <tr>\n",
       "      <th>0</th>\n",
       "      <td>74.506958</td>\n",
       "      <td>1.0000</td>\n",
       "      <td>1.0000</td>\n",
       "      <td>1.000</td>\n",
       "      <td>[1192.111328125]</td>\n",
       "      <td>60.182724</td>\n",
       "      <td>images/grid_search/image-13.png</td>\n",
       "      <td>dreamgaussian:\\n  H: 800\\n  W: 800\\n  anneal_t...</td>\n",
       "      <td>dreamgaussian:\\n  H: 800\\n  W: 800\\n  anneal_t...</td>\n",
       "    </tr>\n",
       "    <tr>\n",
       "      <th>1</th>\n",
       "      <td>74.873085</td>\n",
       "      <td>10.0000</td>\n",
       "      <td>0.0010</td>\n",
       "      <td>0.100</td>\n",
       "      <td>[1796.9539794921875]</td>\n",
       "      <td>49.204288</td>\n",
       "      <td>images/grid_search/image-13.png</td>\n",
       "      <td>dreamgaussian:\\n  H: 800\\n  W: 800\\n  anneal_t...</td>\n",
       "      <td>dreamgaussian:\\n  H: 800\\n  W: 800\\n  anneal_t...</td>\n",
       "    </tr>\n",
       "    <tr>\n",
       "      <th>2</th>\n",
       "      <td>75.244690</td>\n",
       "      <td>10.0000</td>\n",
       "      <td>0.0001</td>\n",
       "      <td>0.100</td>\n",
       "      <td>[2407.830078125]</td>\n",
       "      <td>49.050599</td>\n",
       "      <td>images/grid_search/image-7.png</td>\n",
       "      <td>dreamgaussian:\\n  H: 800\\n  W: 800\\n  anneal_t...</td>\n",
       "      <td>dreamgaussian:\\n  H: 800\\n  W: 800\\n  anneal_t...</td>\n",
       "    </tr>\n",
       "    <tr>\n",
       "      <th>3</th>\n",
       "      <td>75.788239</td>\n",
       "      <td>1.0000</td>\n",
       "      <td>0.1000</td>\n",
       "      <td>10.000</td>\n",
       "      <td>[3031.529541015625]</td>\n",
       "      <td>53.175271</td>\n",
       "      <td>images/grid_search/image-13.png</td>\n",
       "      <td>dreamgaussian:\\n  H: 800\\n  W: 800\\n  anneal_t...</td>\n",
       "      <td>dreamgaussian:\\n  H: 800\\n  W: 800\\n  anneal_t...</td>\n",
       "    </tr>\n",
       "    <tr>\n",
       "      <th>4</th>\n",
       "      <td>75.786758</td>\n",
       "      <td>0.0001</td>\n",
       "      <td>10.0000</td>\n",
       "      <td>0.001</td>\n",
       "      <td>[3637.764404296875]</td>\n",
       "      <td>49.531066</td>\n",
       "      <td>images/grid_search/image-13.png</td>\n",
       "      <td>dreamgaussian:\\n  H: 800\\n  W: 800\\n  anneal_t...</td>\n",
       "      <td>dreamgaussian:\\n  H: 800\\n  W: 800\\n  anneal_t...</td>\n",
       "    </tr>\n",
       "  </tbody>\n",
       "</table>\n",
       "</div>"
      ],
      "text/plain": [
       "   clip_score  elongation  compactness  opacity           clip_scores  \\\n",
       "0   74.506958      1.0000       1.0000    1.000      [1192.111328125]   \n",
       "1   74.873085     10.0000       0.0010    0.100  [1796.9539794921875]   \n",
       "2   75.244690     10.0000       0.0001    0.100      [2407.830078125]   \n",
       "3   75.788239      1.0000       0.1000   10.000   [3031.529541015625]   \n",
       "4   75.786758      0.0001      10.0000    0.001   [3637.764404296875]   \n",
       "\n",
       "    duration                 input_image_path  \\\n",
       "0  60.182724  images/grid_search/image-13.png   \n",
       "1  49.204288  images/grid_search/image-13.png   \n",
       "2  49.050599   images/grid_search/image-7.png   \n",
       "3  53.175271  images/grid_search/image-13.png   \n",
       "4  49.531066  images/grid_search/image-13.png   \n",
       "\n",
       "                                     hyperparameters  \\\n",
       "0  dreamgaussian:\\n  H: 800\\n  W: 800\\n  anneal_t...   \n",
       "1  dreamgaussian:\\n  H: 800\\n  W: 800\\n  anneal_t...   \n",
       "2  dreamgaussian:\\n  H: 800\\n  W: 800\\n  anneal_t...   \n",
       "3  dreamgaussian:\\n  H: 800\\n  W: 800\\n  anneal_t...   \n",
       "4  dreamgaussian:\\n  H: 800\\n  W: 800\\n  anneal_t...   \n",
       "\n",
       "                                         full_config  \n",
       "0  dreamgaussian:\\n  H: 800\\n  W: 800\\n  anneal_t...  \n",
       "1  dreamgaussian:\\n  H: 800\\n  W: 800\\n  anneal_t...  \n",
       "2  dreamgaussian:\\n  H: 800\\n  W: 800\\n  anneal_t...  \n",
       "3  dreamgaussian:\\n  H: 800\\n  W: 800\\n  anneal_t...  \n",
       "4  dreamgaussian:\\n  H: 800\\n  W: 800\\n  anneal_t...  "
      ]
     },
     "execution_count": 9,
     "metadata": {},
     "output_type": "execute_result"
    }
   ],
   "source": [
    "df.head()"
   ]
  },
  {
   "cell_type": "code",
   "execution_count": null,
   "metadata": {},
   "outputs": [],
   "source": []
  },
  {
   "cell_type": "code",
   "execution_count": 10,
   "metadata": {},
   "outputs": [],
   "source": [
    "df[\"hyperparameter_config_id\"] = \"e\" + df['elongation'].astype(str) + \"c\" + df['compactness'].astype(str) + \"o\" + df['opacity'].astype(str)"
   ]
  },
  {
   "cell_type": "code",
   "execution_count": 11,
   "metadata": {},
   "outputs": [],
   "source": [
    "df = df.filter(items=['clip_score', 'hyperparameter_config_id'])"
   ]
  },
  {
   "cell_type": "code",
   "execution_count": 12,
   "metadata": {},
   "outputs": [
    {
     "data": {
      "text/html": [
       "<div>\n",
       "<style scoped>\n",
       "    .dataframe tbody tr th:only-of-type {\n",
       "        vertical-align: middle;\n",
       "    }\n",
       "\n",
       "    .dataframe tbody tr th {\n",
       "        vertical-align: top;\n",
       "    }\n",
       "\n",
       "    .dataframe thead th {\n",
       "        text-align: right;\n",
       "    }\n",
       "</style>\n",
       "<table border=\"1\" class=\"dataframe\">\n",
       "  <thead>\n",
       "    <tr style=\"text-align: right;\">\n",
       "      <th></th>\n",
       "      <th>clip_score</th>\n",
       "      <th>hyperparameter_config_id</th>\n",
       "    </tr>\n",
       "  </thead>\n",
       "  <tbody>\n",
       "    <tr>\n",
       "      <th>0</th>\n",
       "      <td>74.506958</td>\n",
       "      <td>e1.0c1.0o1.0</td>\n",
       "    </tr>\n",
       "    <tr>\n",
       "      <th>1</th>\n",
       "      <td>74.873085</td>\n",
       "      <td>e10.0c0.001o0.1</td>\n",
       "    </tr>\n",
       "    <tr>\n",
       "      <th>2</th>\n",
       "      <td>75.244690</td>\n",
       "      <td>e10.0c0.0001o0.1</td>\n",
       "    </tr>\n",
       "    <tr>\n",
       "      <th>3</th>\n",
       "      <td>75.788239</td>\n",
       "      <td>e1.0c0.1o10.0</td>\n",
       "    </tr>\n",
       "    <tr>\n",
       "      <th>4</th>\n",
       "      <td>75.786758</td>\n",
       "      <td>e0.0001c10.0o0.001</td>\n",
       "    </tr>\n",
       "  </tbody>\n",
       "</table>\n",
       "</div>"
      ],
      "text/plain": [
       "   clip_score hyperparameter_config_id\n",
       "0   74.506958             e1.0c1.0o1.0\n",
       "1   74.873085          e10.0c0.001o0.1\n",
       "2   75.244690         e10.0c0.0001o0.1\n",
       "3   75.788239            e1.0c0.1o10.0\n",
       "4   75.786758       e0.0001c10.0o0.001"
      ]
     },
     "execution_count": 12,
     "metadata": {},
     "output_type": "execute_result"
    }
   ],
   "source": [
    "df.head()"
   ]
  },
  {
   "cell_type": "code",
   "execution_count": 13,
   "metadata": {},
   "outputs": [
    {
     "data": {
      "text/plain": [
       "<pandas.core.groupby.generic.DataFrameGroupBy object at 0x1745107f0>"
      ]
     },
     "execution_count": 13,
     "metadata": {},
     "output_type": "execute_result"
    }
   ],
   "source": [
    "df.groupby([\"hyperparameter_config_id\"])\n",
    "\n"
   ]
  },
  {
   "cell_type": "code",
   "execution_count": 14,
   "metadata": {},
   "outputs": [
    {
     "data": {
      "text/html": [
       "<div>\n",
       "<style scoped>\n",
       "    .dataframe tbody tr th:only-of-type {\n",
       "        vertical-align: middle;\n",
       "    }\n",
       "\n",
       "    .dataframe tbody tr th {\n",
       "        vertical-align: top;\n",
       "    }\n",
       "\n",
       "    .dataframe thead th {\n",
       "        text-align: right;\n",
       "    }\n",
       "</style>\n",
       "<table border=\"1\" class=\"dataframe\">\n",
       "  <thead>\n",
       "    <tr style=\"text-align: right;\">\n",
       "      <th></th>\n",
       "      <th>clip_score</th>\n",
       "      <th>hyperparameter_config_id</th>\n",
       "    </tr>\n",
       "  </thead>\n",
       "  <tbody>\n",
       "    <tr>\n",
       "      <th>0</th>\n",
       "      <td>74.506958</td>\n",
       "      <td>e1.0c1.0o1.0</td>\n",
       "    </tr>\n",
       "    <tr>\n",
       "      <th>1</th>\n",
       "      <td>74.873085</td>\n",
       "      <td>e10.0c0.001o0.1</td>\n",
       "    </tr>\n",
       "    <tr>\n",
       "      <th>2</th>\n",
       "      <td>75.244690</td>\n",
       "      <td>e10.0c0.0001o0.1</td>\n",
       "    </tr>\n",
       "    <tr>\n",
       "      <th>3</th>\n",
       "      <td>75.788239</td>\n",
       "      <td>e1.0c0.1o10.0</td>\n",
       "    </tr>\n",
       "    <tr>\n",
       "      <th>4</th>\n",
       "      <td>75.786758</td>\n",
       "      <td>e0.0001c10.0o0.001</td>\n",
       "    </tr>\n",
       "    <tr>\n",
       "      <th>...</th>\n",
       "      <td>...</td>\n",
       "      <td>...</td>\n",
       "    </tr>\n",
       "    <tr>\n",
       "      <th>145</th>\n",
       "      <td>74.355621</td>\n",
       "      <td>e0.0001c0.001o0.0001</td>\n",
       "    </tr>\n",
       "    <tr>\n",
       "      <th>146</th>\n",
       "      <td>74.367767</td>\n",
       "      <td>e1.0c1.0o0.0001</td>\n",
       "    </tr>\n",
       "    <tr>\n",
       "      <th>147</th>\n",
       "      <td>74.379700</td>\n",
       "      <td>e0.001c1.0o0.01</td>\n",
       "    </tr>\n",
       "    <tr>\n",
       "      <th>148</th>\n",
       "      <td>74.358582</td>\n",
       "      <td>e0.1c0.001o0.0001</td>\n",
       "    </tr>\n",
       "    <tr>\n",
       "      <th>149</th>\n",
       "      <td>74.364830</td>\n",
       "      <td>e0.01c1.0o0.0001</td>\n",
       "    </tr>\n",
       "  </tbody>\n",
       "</table>\n",
       "<p>150 rows × 2 columns</p>\n",
       "</div>"
      ],
      "text/plain": [
       "     clip_score hyperparameter_config_id\n",
       "0     74.506958             e1.0c1.0o1.0\n",
       "1     74.873085          e10.0c0.001o0.1\n",
       "2     75.244690         e10.0c0.0001o0.1\n",
       "3     75.788239            e1.0c0.1o10.0\n",
       "4     75.786758       e0.0001c10.0o0.001\n",
       "..          ...                      ...\n",
       "145   74.355621     e0.0001c0.001o0.0001\n",
       "146   74.367767          e1.0c1.0o0.0001\n",
       "147   74.379700          e0.001c1.0o0.01\n",
       "148   74.358582        e0.1c0.001o0.0001\n",
       "149   74.364830         e0.01c1.0o0.0001\n",
       "\n",
       "[150 rows x 2 columns]"
      ]
     },
     "execution_count": 14,
     "metadata": {},
     "output_type": "execute_result"
    }
   ],
   "source": [
    "df"
   ]
  },
  {
   "cell_type": "code",
   "execution_count": 18,
   "metadata": {},
   "outputs": [
    {
     "data": {
      "text/html": [
       "<div>\n",
       "<style scoped>\n",
       "    .dataframe tbody tr th:only-of-type {\n",
       "        vertical-align: middle;\n",
       "    }\n",
       "\n",
       "    .dataframe tbody tr th {\n",
       "        vertical-align: top;\n",
       "    }\n",
       "\n",
       "    .dataframe thead th {\n",
       "        text-align: right;\n",
       "    }\n",
       "</style>\n",
       "<table border=\"1\" class=\"dataframe\">\n",
       "  <thead>\n",
       "    <tr style=\"text-align: right;\">\n",
       "      <th></th>\n",
       "      <th>clip_score</th>\n",
       "      <th>hyperparameter_config_id</th>\n",
       "    </tr>\n",
       "  </thead>\n",
       "  <tbody>\n",
       "    <tr>\n",
       "      <th>6</th>\n",
       "      <td>75.964386</td>\n",
       "      <td>e0.001c10.0o10.0</td>\n",
       "    </tr>\n",
       "  </tbody>\n",
       "</table>\n",
       "</div>"
      ],
      "text/plain": [
       "   clip_score hyperparameter_config_id\n",
       "6   75.964386         e0.001c10.0o10.0"
      ]
     },
     "execution_count": 18,
     "metadata": {},
     "output_type": "execute_result"
    }
   ],
   "source": [
    "# max clip score\n",
    "df[df['clip_score'] == df['clip_score'].max()]"
   ]
  },
  {
   "cell_type": "code",
   "execution_count": 15,
   "metadata": {},
   "outputs": [],
   "source": [
    "import uuid\n"
   ]
  },
  {
   "cell_type": "code",
   "execution_count": 16,
   "metadata": {},
   "outputs": [],
   "source": [
    "unique_id = uuid.uuid4().hex\n",
    "tmp_configs_dir = f\"tmp_configs_{unique_id}\""
   ]
  },
  {
   "cell_type": "code",
   "execution_count": 17,
   "metadata": {},
   "outputs": [
    {
     "data": {
      "text/plain": [
       "'tmp_configs_b6614b3c5cbf4a479372df5c68cd1f4a'"
      ]
     },
     "execution_count": 17,
     "metadata": {},
     "output_type": "execute_result"
    }
   ],
   "source": [
    "tmp_configs_dir"
   ]
  },
  {
   "cell_type": "code",
   "execution_count": null,
   "metadata": {},
   "outputs": [],
   "source": []
  }
 ],
 "metadata": {
  "kernelspec": {
   "display_name": "sisa3d",
   "language": "python",
   "name": "python3"
  },
  "language_info": {
   "codemirror_mode": {
    "name": "ipython",
    "version": 3
   },
   "file_extension": ".py",
   "mimetype": "text/x-python",
   "name": "python",
   "nbconvert_exporter": "python",
   "pygments_lexer": "ipython3",
   "version": "3.9.19"
  }
 },
 "nbformat": 4,
 "nbformat_minor": 2
}
