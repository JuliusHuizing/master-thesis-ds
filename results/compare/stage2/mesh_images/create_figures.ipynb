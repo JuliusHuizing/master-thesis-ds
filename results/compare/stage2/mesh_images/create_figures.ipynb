{
 "cells": [
  {
   "cell_type": "code",
   "execution_count": null,
   "metadata": {},
   "outputs": [],
   "source": []
  },
  {
   "cell_type": "markdown",
   "metadata": {},
   "source": [
    "# Stage 2 mesh images from Different Angles"
   ]
  },
  {
   "cell_type": "code",
   "execution_count": 4,
   "metadata": {},
   "outputs": [
    {
     "name": "stdout",
     "output_type": "stream",
     "text": [
      "\n",
      "Angle: 0h\n",
      "  DreamGaussian:\n",
      "    dreamgaussian/bird/0_0.png\n",
      "  Ours:\n",
      "    ours/bird/0_0.png\n",
      "\n",
      "Angle: 45h\n",
      "  DreamGaussian:\n",
      "    dreamgaussian/bird/0_45.png\n",
      "  Ours:\n",
      "    ours/bird/0_45.png\n",
      "\n",
      "Angle: 180h\n",
      "  DreamGaussian:\n",
      "    dreamgaussian/bird/0_180.png\n",
      "  Ours:\n",
      "    ours/bird/0_180.png\n"
     ]
    }
   ],
   "source": [
    "import os\n",
    "from collections import defaultdict\n",
    "\n",
    "# Directories containing images for each column\n",
    "source_dirs = {\n",
    "    \"DreamGaussian\": \"dreamgaussian/\",\n",
    "    \"Ours\": \"ours/\",\n",
    "}\n",
    "\n",
    "# Function to group images by angles\n",
    "def group_images_by_angle(source_dirs):\n",
    "    grouped_images = {\n",
    "        \"0h\": defaultdict(list),\n",
    "        \"45h\": defaultdict(list),\n",
    "        \"180h\": defaultdict(list),\n",
    "    }\n",
    "\n",
    "    for dir_name, dir_path in source_dirs.items():\n",
    "        for image_file in sorted(os.listdir(dir_path)):\n",
    "            angle = None\n",
    "            if \"_0.\" in image_file:\n",
    "                angle = \"0h\"\n",
    "            elif \"_45.\" in image_file:\n",
    "                angle = \"45h\"\n",
    "            elif \"_180.\" in image_file:\n",
    "                angle = \"180h\"\n",
    "\n",
    "            if angle:\n",
    "                grouped_images[angle][dir_name].append(os.path.join(dir_path, image_file))\n",
    "\n",
    "    return grouped_images\n",
    "\n",
    "# Group the images\n",
    "grouped_images = group_images_by_angle(source_dirs)\n",
    "\n",
    "# Print the grouped images for verification\n",
    "for angle, images in grouped_images.items():\n",
    "    print(f\"\\nAngle: {angle}\")\n",
    "    for method, image_list in images.items():\n",
    "        print(f\"  {method}:\")\n",
    "        for image in image_list:\n",
    "            print(f\"    {image}\")\n",
    "            \n",
    "            \n",
    "            import matplotlib.pyplot as plt\n",
    "from PIL import Image\n",
    "import os\n",
    "\n",
    "# Assuming reference_images_dir contains the path to the reference images directory\n",
    "reference_images_dir = \"/Users/julius/repos/sisa3d/master-thesis-ds/images/compare\"\n",
    "\n",
    "# Create a figure with subplots for each angle and one extra column for reference images\n",
    "fig, axes = plt.subplots(nrows=len(grouped_images[\"0h\"][\"DreamGaussian\"]), ncols=1 + 3*len(source_dirs), figsize=(20, 10))\n",
    "\n",
    "# Iterate over the angles and plot images\n",
    "for angle_idx, (angle, methods) in enumerate(grouped_images.items()):\n",
    "    for row_idx, method in enumerate(source_dirs.keys()):\n",
    "        for image_idx, image_path in enumerate(methods[method]):\n",
    "            image = Image.open(image_path)\n",
    "            ax = axes[image_idx, 1 + angle_idx * len(source_dirs) + row_idx]  # Shift by one for the reference column\n",
    "            ax.imshow(image)\n",
    "            ax.axis('off')\n",
    "\n",
    "# Plot reference images\n",
    "reference_image_paths = sorted([os.path.join(reference_images_dir, fname) for fname in os.listdir(reference_images_dir)])\n",
    "for image_idx, ref_image_path in enumerate(reference_image_paths):\n",
    "    ref_image = Image.open(ref_image_path)\n",
    "    ax = axes[image_idx, 0]  # First column for reference images\n",
    "    ax.imshow(ref_image)\n",
    "    ax.axis('off')\n",
    "\n",
    "# Set the column titles\n",
    "fig.text(0.5 / (len(grouped_images) * len(source_dirs) + 1), -0.01, \"Reference\", ha='center', fontsize=14, weight='bold', va='top')\n",
    "for angle_idx, angle in enumerate(grouped_images.keys()):\n",
    "    for col_idx, method in enumerate(source_dirs.keys()):\n",
    "        fig.text((1 + angle_idx * len(source_dirs) + col_idx + 0.5) / (1 + len(grouped_images) * len(source_dirs)), -0.01, f\"{method} ({angle[:-1]}°)\", ha='center', fontsize=14, weight='bold', va='top')\n",
    "\n",
    "# Adjust layout\n",
    "plt.tight_layout(pad=2)\n",
    "# Save and show the plot\n",
    "plt.savefig('comparison_image_with_reference.png', dpi=300, bbox_inches='tight')\n",
    "plt.show()"
   ]
  },
  {
   "cell_type": "code",
   "execution_count": 5,
   "metadata": {},
   "outputs": [
    {
     "ename": "IndexError",
     "evalue": "too many indices for array: array is 1-dimensional, but 2 were indexed",
     "output_type": "error",
     "traceback": [
      "\u001b[0;31m---------------------------------------------------------------------------\u001b[0m",
      "\u001b[0;31mIndexError\u001b[0m                                Traceback (most recent call last)",
      "Cell \u001b[0;32mIn[5], line 16\u001b[0m\n\u001b[1;32m     14\u001b[0m \u001b[38;5;28;01mfor\u001b[39;00m image_idx, image_path \u001b[38;5;129;01min\u001b[39;00m \u001b[38;5;28menumerate\u001b[39m(methods[method]):\n\u001b[1;32m     15\u001b[0m     image \u001b[38;5;241m=\u001b[39m Image\u001b[38;5;241m.\u001b[39mopen(image_path)\n\u001b[0;32m---> 16\u001b[0m     ax \u001b[38;5;241m=\u001b[39m \u001b[43maxes\u001b[49m\u001b[43m[\u001b[49m\u001b[43mimage_idx\u001b[49m\u001b[43m,\u001b[49m\u001b[43m \u001b[49m\u001b[38;5;241;43m1\u001b[39;49m\u001b[43m \u001b[49m\u001b[38;5;241;43m+\u001b[39;49m\u001b[43m \u001b[49m\u001b[43mangle_idx\u001b[49m\u001b[43m \u001b[49m\u001b[38;5;241;43m*\u001b[39;49m\u001b[43m \u001b[49m\u001b[38;5;28;43mlen\u001b[39;49m\u001b[43m(\u001b[49m\u001b[43msource_dirs\u001b[49m\u001b[43m)\u001b[49m\u001b[43m \u001b[49m\u001b[38;5;241;43m+\u001b[39;49m\u001b[43m \u001b[49m\u001b[43mrow_idx\u001b[49m\u001b[43m]\u001b[49m  \u001b[38;5;66;03m# Shift by one for the reference column\u001b[39;00m\n\u001b[1;32m     17\u001b[0m     ax\u001b[38;5;241m.\u001b[39mimshow(image)\n\u001b[1;32m     18\u001b[0m     ax\u001b[38;5;241m.\u001b[39maxis(\u001b[38;5;124m'\u001b[39m\u001b[38;5;124moff\u001b[39m\u001b[38;5;124m'\u001b[39m)\n",
      "\u001b[0;31mIndexError\u001b[0m: too many indices for array: array is 1-dimensional, but 2 were indexed"
     ]
    },
    {
     "data": {
      "image/png": "[encoded data removed]",
      "text/plain": [
       "<Figure size 2000x1000 with 7 Axes>"
      ]
     },
     "metadata": {},
     "output_type": "display_data"
    }
   ],
   "source": [
    "import matplotlib.pyplot as plt\n",
    "from PIL import Image\n",
    "import os\n",
    "\n",
    "# Assuming reference_images_dir contains the path to the reference images directory\n",
    "reference_images_dir = \"/Users/julius/repos/sisa3d/master-thesis-ds/images/compare\"\n",
    "\n",
    "# Create a figure with subplots for each angle and one extra column for reference images\n",
    "fig, axes = plt.subplots(nrows=len(grouped_images[\"0h\"][\"DreamGaussian\"]), ncols=1 + 3*len(source_dirs), figsize=(20, 10))\n",
    "\n",
    "# Iterate over the angles and plot images\n",
    "for angle_idx, (angle, methods) in enumerate(grouped_images.items()):\n",
    "    for row_idx, method in enumerate(source_dirs.keys()):\n",
    "        for image_idx, image_path in enumerate(methods[method]):\n",
    "            image = Image.open(image_path)\n",
    "            ax = axes[image_idx, 1 + angle_idx * len(source_dirs) + row_idx]  # Shift by one for the reference column\n",
    "            ax.imshow(image)\n",
    "            ax.axis('off')\n",
    "\n",
    "# Plot reference images\n",
    "reference_image_paths = sorted([os.path.join(reference_images_dir, fname) for fname in os.listdir(reference_images_dir)])\n",
    "for image_idx, ref_image_path in enumerate(reference_image_paths):\n",
    "    ref_image = Image.open(ref_image_path)\n",
    "    ax = axes[image_idx, 0]  # First column for reference images\n",
    "    ax.imshow(ref_image)\n",
    "    ax.axis('off')\n",
    "\n",
    "# Set the column titles\n",
    "fig.text(0.5 / (len(grouped_images) * len(source_dirs) + 1), -0.01, \"Reference\", ha='center', fontsize=14, weight='bold', va='top')\n",
    "for angle_idx, angle in enumerate(grouped_images.keys()):\n",
    "    for col_idx, method in enumerate(source_dirs.keys()):\n",
    "        fig.text((1 + angle_idx * len(source_dirs) + col_idx + 0.5) / (1 + len(grouped_images) * len(source_dirs)), -0.01, f\"{method} ({angle[:-1]}°)\", ha='center', fontsize=14, weight='bold', va='top')\n",
    "\n",
    "# Adjust layout\n",
    "plt.tight_layout(pad=2)\n",
    "# Save and show the plot\n",
    "plt.savefig('comparison_image_with_reference.png', dpi=300, bbox_inches='tight')\n",
    "plt.show()"
   ]
  },
  {
   "cell_type": "markdown",
   "metadata": {},
   "source": []
  }
 ],
 "metadata": {
  "kernelspec": {
   "display_name": "sisa3d",
   "language": "python",
   "name": "python3"
  },
  "language_info": {
   "codemirror_mode": {
    "name": "ipython",
    "version": 3
   },
   "file_extension": ".py",
   "mimetype": "text/x-python",
   "name": "python",
   "nbconvert_exporter": "python",
   "pygments_lexer": "ipython3",
   "version": "3.9.19"
  }
 },
 "nbformat": 4,
 "nbformat_minor": 2
}
